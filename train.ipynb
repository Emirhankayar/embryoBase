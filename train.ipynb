{
 "cells": [
  {
   "cell_type": "code",
   "execution_count": 1,
   "id": "91647e53",
   "metadata": {},
   "outputs": [
    {
     "data": {
      "text/plain": [
       "'# Install the required libraries\\n#SAM\\n!pip install git+https://github.com/facebookresearch/segment-anything.git\\n#Transformers\\n!pip install -q git+https://github.com/huggingface/transformers.git\\n#Datasets to prepare data and monai if you want to use special loss functions\\n!pip install datasets\\n!pip install -q monai\\n#Patchify to divide large images into smaller patches for training. (Not necessary for smaller images)\\n!pip install patchify'"
      ]
     },
     "execution_count": 1,
     "metadata": {},
     "output_type": "execute_result"
    }
   ],
   "source": [
    "\"\"\"# Install the required libraries\n",
    "#SAM\n",
    "!pip install git+https://github.com/facebookresearch/segment-anything.git\n",
    "#Transformers\n",
    "!pip install -q git+https://github.com/huggingface/transformers.git\n",
    "#Datasets to prepare data and monai if you want to use special loss functions\n",
    "!pip install datasets\n",
    "!pip install -q monai\n",
    "#Patchify to divide large images into smaller patches for training. (Not necessary for smaller images)\n",
    "!pip install patchify\"\"\""
   ]
  },
  {
   "cell_type": "code",
   "execution_count": 2,
   "id": "7d81d8fe",
   "metadata": {},
   "outputs": [],
   "source": [
    "import numpy as np\n",
    "import matplotlib.pyplot as plt\n",
    "import tifffile\n",
    "import os\n",
    "from patchify import patchify  #Only to handle large images\n",
    "import random\n",
    "from scipy import ndimage\n",
    "\n",
    "import polars as pl\n",
    "import collections as cl\n",
    "import sklearn as sk\n",
    "import skimage.io as skio"
   ]
  },
  {
   "cell_type": "code",
   "execution_count": 3,
   "id": "a9db9ca6",
   "metadata": {},
   "outputs": [],
   "source": [
    "src = \"/run/media/capitan/Emu/blastodata_orig\"\n",
    "csv = \"/home/capitan/Documents/Code/MedSAM/bbox.csv\"\n",
    "save_dir = \"/home/capitan/Documents/Code/MedSAM/trained_model\"\n",
    "\n",
    "# GET IMAGE PATHS\n",
    "img_paths = {}\n",
    "for root, dirs, files in os.walk(src, topdown=True):\n",
    "    for f in files:\n",
    "        img_paths[f.lower()] = os.path.join(root, f)\n",
    "# LOAD IMAGES\n",
    "df = (\n",
    "    pl.scan_csv(csv)\n",
    "    .select([\"Image\", \"x1\", \"y1\", \"x2\", \"y2\", \"Label\"])\n",
    "    .with_columns(pl.col(\"Image\").str.replace(r\"^[^/]*/\", \"\").alias(\"Image\"))\n",
    "    .collect()\n",
    ")\n",
    "rows = df.to_dicts()\n",
    "\n",
    "# MATCH ROWS\n",
    "valid_rows = []\n",
    "for r in rows:\n",
    "    name = r[\"Image\"].lower()\n",
    "    if name in img_paths:\n",
    "        r[\"FullImagePath\"] = img_paths[name]\n",
    "        valid_rows.append(r)\n",
    "    else:\n",
    "        print(f\"Not found on disk: {r['Image']}\")\n",
    "\n",
    "# print(f\"Matched {len(valid_rows)} of {len(rows)} CSV entries\")\n",
    "\n",
    "# SUBSAMPLE DATASET\n",
    "random.seed(42)\n",
    "\n",
    "class_groups = cl.defaultdict(list)\n",
    "for r in valid_rows:\n",
    "    class_groups[r[\"Label\"]].append(r)\n",
    "\n",
    "n_samples_total = 200\n",
    "n_classes = len(class_groups)\n",
    "samples_per_class = n_samples_total // n_classes\n",
    "\n",
    "subsampled_rows = []\n",
    "for label, rows_list in class_groups.items():\n",
    "    n = min(samples_per_class, len(rows_list))\n",
    "    subsampled_rows.extend(random.sample(rows_list, n))\n",
    "\n",
    "# print(f\"Subsampled {len(subsampled_rows)} rows with balanced classes\")\n",
    "\n",
    "train_rows, test_rows = sk.model_selection.train_test_split(\n",
    "    subsampled_rows,\n",
    "    test_size=0.2,\n",
    "    random_state=42,\n",
    "    stratify=[r[\"Label\"] for r in subsampled_rows],\n",
    ")\n",
    "# print(f\"Train samples: {len(train_rows)}, Test samples: {len(test_rows)}\")"
   ]
  },
  {
   "cell_type": "code",
   "execution_count": 4,
   "id": "506d51e7",
   "metadata": {},
   "outputs": [
    {
     "name": "stdout",
     "output_type": "stream",
     "text": [
      "Loaded 160 valid images @ (1024, 1024)\n",
      "Loaded 40 valid images @ (1024, 1024)\n",
      "Train: 160 images + masks @ 1024×1024\n",
      "Test:  40 images + masks @ 1024×1024\n"
     ]
    }
   ],
   "source": [
    "from PIL import Image\n",
    "import numpy as np\n",
    "import cv2\n",
    "import os\n",
    "def load_images_and_masks(rows, target_size=(1024, 1024), method='as_is'):\n",
    "    \"\"\"\n",
    "    Load images, resize to 1024×1024, and generate circular masks.\n",
    "    \n",
    "    Args:\n",
    "        rows: List of dicts with FullImagePath, x1, y1, x2, y2, Label\n",
    "        target_size: Target size (default 1024x1024)\n",
    "        method: 'as_is' if bbox is already in 1024x1024 coords,\n",
    "                'scale' if bbox needs scaling from original image\n",
    "    \n",
    "    Returns:\n",
    "        images, masks, labels (all as lists of numpy arrays)\n",
    "    \"\"\"\n",
    "    images, masks, labels = [], [], []\n",
    "    \n",
    "    for r in rows:\n",
    "        img_path = r.get(\"FullImagePath\")\n",
    "        if not os.path.exists(img_path):\n",
    "            print(f\"File not found: {img_path}\")\n",
    "            continue\n",
    "        \n",
    "        try:\n",
    "            # Load image\n",
    "            img = Image.open(img_path).convert(\"RGB\")\n",
    "            orig_w, orig_h = img.size\n",
    "            \n",
    "            # Resize to 1024x1024\n",
    "            img = img.resize(target_size, Image.BILINEAR)\n",
    "            img_np = np.array(img)\n",
    "            h, w = img_np.shape[:2]\n",
    "            \n",
    "            # Get bbox coordinates\n",
    "            if method == 'as_is':\n",
    "                # BBox is already in 1024x1024 space\n",
    "                x1 = int(np.clip(r[\"x1\"], 0, w - 1))\n",
    "                y1 = int(np.clip(r[\"y1\"], 0, h - 1))\n",
    "                x2 = int(np.clip(r[\"x2\"], 0, w - 1))\n",
    "                y2 = int(np.clip(r[\"y2\"], 0, h - 1))\n",
    "            \n",
    "            elif method == 'scale':\n",
    "                # BBox needs scaling from original image size\n",
    "                scale_x = w / orig_w\n",
    "                scale_y = h / orig_h\n",
    "                x1 = int(np.clip(r[\"x1\"] * scale_x, 0, w - 1))\n",
    "                y1 = int(np.clip(r[\"y1\"] * scale_y, 0, h - 1))\n",
    "                x2 = int(np.clip(r[\"x2\"] * scale_x, 0, w - 1))\n",
    "                y2 = int(np.clip(r[\"y2\"] * scale_y, 0, h - 1))\n",
    "            \n",
    "            else:\n",
    "                raise ValueError(f\"Unknown method: {method}\")\n",
    "            \n",
    "            # Validate bbox\n",
    "            if x2 <= x1 or y2 <= y1:\n",
    "                print(f\"Invalid bbox for {img_path}: ({x1}, {y1}, {x2}, {y2})\")\n",
    "                continue\n",
    "            \n",
    "            # Calculate circle parameters\n",
    "            cx = (x1 + x2) // 2\n",
    "            cy = (y1 + y2) // 2\n",
    "            radius = int(min((x2 - x1), (y2 - y1)) / 2)\n",
    "            \n",
    "            if radius <= 0:\n",
    "                print(f\"Zero-radius circle for {img_path}\")\n",
    "                continue\n",
    "            \n",
    "            # Create mask\n",
    "            mask = np.zeros((h, w), dtype=np.uint8)\n",
    "            cv2.circle(mask, (cx, cy), radius, 255, -1)  # Use 255 for visibility\n",
    "            \n",
    "            # Verify mask is not empty\n",
    "            if np.count_nonzero(mask) == 0:\n",
    "                print(f\"   Empty mask generated for {img_path}\")\n",
    "                print(f\"   BBox: ({x1}, {y1}, {x2}, {y2}), Center: ({cx}, {cy}), Radius: {radius}\")\n",
    "                continue\n",
    "            \n",
    "            images.append(img_np)\n",
    "            masks.append(mask)\n",
    "            labels.append(r[\"Label\"])\n",
    "        \n",
    "        except Exception as e:\n",
    "            print(f\"Error processing {img_path}: {e}\")\n",
    "            continue\n",
    "    \n",
    "    print(f\"Loaded {len(images)} valid images @ {target_size}\")\n",
    "    return images, masks, labels\n",
    "\n",
    "\n",
    "# --- Load training and test data ---\n",
    "large_images, large_masks, labels_train = load_images_and_masks(train_rows)\n",
    "large_images_test, large_masks_test, labels_test = load_images_and_masks(test_rows)\n",
    "\n",
    "print(f\"Train: {len(large_images)} images + masks @ 1024×1024\")\n",
    "print(f\"Test:  {len(large_images_test)} images + masks @ 1024×1024\")"
   ]
  },
  {
   "cell_type": "code",
   "execution_count": 5,
   "id": "87c17819",
   "metadata": {},
   "outputs": [
    {
     "name": "stdout",
     "output_type": "stream",
     "text": [
      "Number of images: 160\n",
      "Min shape (H, W): [1024 1024]\n",
      "Max shape (H, W): [1024 1024]\n",
      "Mean shape (H, W): [1024 1024]\n",
      "Median shape (H, W): [1024 1024]\n"
     ]
    }
   ],
   "source": [
    "import numpy as np\n",
    "\n",
    "# Collect all shapes (height, width)\n",
    "shapes = np.array([img.shape[:2] for img in large_images])  # ignore channels\n",
    "\n",
    "# Print some basic stats\n",
    "print(\"Number of images:\", len(shapes))\n",
    "print(\"Min shape (H, W):\", shapes.min(axis=0))\n",
    "print(\"Max shape (H, W):\", shapes.max(axis=0))\n",
    "print(\"Mean shape (H, W):\", shapes.mean(axis=0).astype(int))\n",
    "print(\"Median shape (H, W):\", np.median(shapes, axis=0).astype(int))"
   ]
  },
  {
   "cell_type": "code",
   "execution_count": 6,
   "id": "e4758c2e",
   "metadata": {},
   "outputs": [],
   "source": [
    "#Desired patch size for smaller images and step size.\n",
    "patch_size = 1024\n",
    "step = 1024"
   ]
  },
  {
   "cell_type": "code",
   "execution_count": 7,
   "id": "ff49f42d",
   "metadata": {},
   "outputs": [],
   "source": [
    "import numpy as np\n",
    "\n",
    "large_images = np.array(large_images)  # shape: (N, H, W, 3)\n",
    "large_masks  = np.array(large_masks)   # shape: (N, H, W)"
   ]
  },
  {
   "cell_type": "code",
   "execution_count": 8,
   "id": "75eecba4",
   "metadata": {},
   "outputs": [],
   "source": [
    "\n",
    "all_img_patches = []\n",
    "for img in range(large_images.shape[0]):\n",
    "    large_image = large_images[img]\n",
    "    patches_img = patchify(large_image, (patch_size, patch_size, large_image.shape[2]), step=step)\n",
    "    #patches_img = patchify(large_image, (patch_size, patch_size), step=step)  #Step=256 for 256 patches means no overlap\n",
    "\n",
    "    for i in range(patches_img.shape[0]):\n",
    "        for j in range(patches_img.shape[1]):\n",
    "\n",
    "            #single_patch_img = patches_img[i,j,:,:]\n",
    "            single_patch_img = patches_img[i, j, 0, :, :, :]\n",
    "            all_img_patches.append(single_patch_img)\n",
    "\n",
    "images = np.array(all_img_patches)\n",
    "\n",
    "#Let us do the same for masks\n",
    "all_mask_patches = []\n",
    "for img in range(large_masks.shape[0]):\n",
    "    large_mask = large_masks[img]\n",
    "    #patches_mask = patchify(large_mask, (patch_size, patch_size), step=step)  #Step=256 for 256 patches means no overlap\n",
    "    patches_mask = patchify(large_mask, (patch_size, patch_size), step=step)\n",
    "    for i in range(patches_mask.shape[0]):\n",
    "        for j in range(patches_mask.shape[1]):\n",
    "\n",
    "            #single_patch_mask = patches_mask[i,j,:,:]\n",
    "            #single_patch_mask = (single_patch_mask / 255.).astype(np.uint8)\n",
    "            single_patch_mask = patches_mask[i, j, :, :]\n",
    "            single_patch_mask = (single_patch_mask / 255.).astype(np.uint8)\n",
    "            all_mask_patches.append(single_patch_mask)\n",
    "\n",
    "masks = np.array(all_mask_patches)"
   ]
  },
  {
   "cell_type": "code",
   "execution_count": 9,
   "id": "2364abfb",
   "metadata": {},
   "outputs": [
    {
     "data": {
      "text/plain": [
       "((160, 1024, 1024, 3), (160, 1024, 1024))"
      ]
     },
     "execution_count": 9,
     "metadata": {},
     "output_type": "execute_result"
    }
   ],
   "source": [
    "images.shape, masks.shape"
   ]
  },
  {
   "cell_type": "code",
   "execution_count": 10,
   "id": "216bd387",
   "metadata": {},
   "outputs": [
    {
     "name": "stdout",
     "output_type": "stream",
     "text": [
      "Image shape: (160, 1024, 1024, 3)\n",
      "Mask shape: (160, 1024, 1024)\n"
     ]
    }
   ],
   "source": [
    "\n",
    "\n",
    "# Create a list to store the indices of non-empty masks\n",
    "valid_indices = [i for i, mask in enumerate(masks) if mask.max() != 0]\n",
    "# Filter the image and mask arrays to keep only the non-empty pairs\n",
    "filtered_images = images[valid_indices]\n",
    "filtered_masks = masks[valid_indices]\n",
    "print(\"Image shape:\", filtered_images.shape)  # e.g., (num_frames, height, width, num_channels)\n",
    "print(\"Mask shape:\", filtered_masks.shape)"
   ]
  },
  {
   "cell_type": "code",
   "execution_count": 11,
   "id": "d4f2bb7f",
   "metadata": {},
   "outputs": [],
   "source": [
    "from datasets import Dataset\n",
    "from PIL import Image\n",
    "\n",
    "# Convert the NumPy arrays to Pillow images and store them in a dictionary\n",
    "dataset_dict = {\n",
    "    \"image\": [Image.fromarray(img) for img in filtered_images],\n",
    "    \"label\": [Image.fromarray(mask) for mask in filtered_masks],\n",
    "}\n",
    "\n",
    "# Create the dataset using the datasets.Dataset class\n",
    "dataset = Dataset.from_dict(dataset_dict)"
   ]
  },
  {
   "cell_type": "code",
   "execution_count": 12,
   "id": "9cccea66",
   "metadata": {},
   "outputs": [
    {
     "data": {
      "text/plain": [
       "Dataset({\n",
       "    features: ['image', 'label'],\n",
       "    num_rows: 160\n",
       "})"
      ]
     },
     "execution_count": 12,
     "metadata": {},
     "output_type": "execute_result"
    }
   ],
   "source": [
    "dataset"
   ]
  },
  {
   "cell_type": "code",
   "execution_count": 13,
   "id": "858f1402",
   "metadata": {},
   "outputs": [
    {
     "data": {
      "image/png": "[encoded data removed]",
      "text/plain": [
       "<Figure size 1000x500 with 2 Axes>"
      ]
     },
     "metadata": {},
     "output_type": "display_data"
    }
   ],
   "source": [
    "img_num = random.randint(0, filtered_images.shape[0]-1)\n",
    "example_image = dataset[img_num][\"image\"]\n",
    "example_mask = dataset[img_num][\"label\"]\n",
    "\n",
    "fig, axes = plt.subplots(1, 2, figsize=(10, 5))\n",
    "\n",
    "# Plot the first image on the left\n",
    "axes[0].imshow(np.array(example_image), cmap='gray')  # Assuming the first image is grayscale\n",
    "axes[0].set_title(\"Image\")\n",
    "\n",
    "# Plot the second image on the right\n",
    "axes[1].imshow(example_mask, cmap='gray')  # Assuming the second image is grayscale\n",
    "axes[1].set_title(\"Mask\")\n",
    "\n",
    "# Hide axis ticks and labels\n",
    "for ax in axes:\n",
    "    ax.set_xticks([])\n",
    "    ax.set_yticks([])\n",
    "    ax.set_xticklabels([])\n",
    "    ax.set_yticklabels([])\n",
    "\n",
    "# Display the images side by side\n",
    "plt.show()"
   ]
  },
  {
   "cell_type": "code",
   "execution_count": 14,
   "id": "8275d6b4",
   "metadata": {},
   "outputs": [],
   "source": [
    "#Get bounding boxes from mask.\n",
    "def get_bounding_box(ground_truth_map):\n",
    "  # get bounding box from mask\n",
    "  y_indices, x_indices = np.where(ground_truth_map > 0)\n",
    "  x_min, x_max = np.min(x_indices), np.max(x_indices)\n",
    "  y_min, y_max = np.min(y_indices), np.max(y_indices)\n",
    "  # add perturbation to bounding box coordinates\n",
    "  H, W = ground_truth_map.shape\n",
    "  x_min = max(0, x_min - np.random.randint(0, 20))\n",
    "  x_max = min(W, x_max + np.random.randint(0, 20))\n",
    "  y_min = max(0, y_min - np.random.randint(0, 20))\n",
    "  y_max = min(H, y_max + np.random.randint(0, 20))\n",
    "  bbox = [x_min, y_min, x_max, y_max]\n",
    "\n",
    "  return bbox"
   ]
  },
  {
   "cell_type": "code",
   "execution_count": 15,
   "id": "202893e9",
   "metadata": {},
   "outputs": [],
   "source": [
    "from torch.utils.data import Dataset\n",
    "\n",
    "class SAMDataset(Dataset):\n",
    "  \"\"\"\n",
    "  This class is used to create a dataset that serves input images and masks.\n",
    "  It takes a dataset and a processor as input and overrides the __len__ and __getitem__ methods of the Dataset class.\n",
    "  \"\"\"\n",
    "  def __init__(self, dataset, processor):\n",
    "    self.dataset = dataset\n",
    "    self.processor = processor\n",
    "\n",
    "  def __len__(self):\n",
    "    return len(self.dataset)\n",
    "\n",
    "  def __getitem__(self, idx):\n",
    "    item = self.dataset[idx]\n",
    "    image = item[\"image\"]\n",
    "    ground_truth_mask = np.array(item[\"label\"])\n",
    "\n",
    "    # get bounding box prompt\n",
    "    prompt = get_bounding_box(ground_truth_mask)\n",
    "\n",
    "    # prepare image and prompt for the model\n",
    "    inputs = self.processor(image, input_boxes=[[prompt]], return_tensors=\"pt\")\n",
    "\n",
    "    # remove batch dimension which the processor adds by default\n",
    "    inputs = {k:v.squeeze(0) for k,v in inputs.items()}\n",
    "\n",
    "    # add ground truth segmentation\n",
    "    inputs[\"ground_truth_mask\"] = ground_truth_mask\n",
    "\n",
    "    return inputs"
   ]
  },
  {
   "cell_type": "code",
   "execution_count": 16,
   "id": "84c21649",
   "metadata": {},
   "outputs": [],
   "source": [
    "# Initialize the processor\n",
    "from transformers import SamProcessor\n",
    "processor = SamProcessor.from_pretrained(\"facebook/sam-vit-base\")"
   ]
  },
  {
   "cell_type": "code",
   "execution_count": 17,
   "id": "ee2a649b",
   "metadata": {},
   "outputs": [],
   "source": [
    "train_dataset = SAMDataset(dataset=dataset, processor=processor)"
   ]
  },
  {
   "cell_type": "code",
   "execution_count": 18,
   "id": "1e3fda37",
   "metadata": {},
   "outputs": [
    {
     "name": "stdout",
     "output_type": "stream",
     "text": [
      "pixel_values torch.Size([3, 1024, 1024])\n",
      "original_sizes torch.Size([2])\n",
      "reshaped_input_sizes torch.Size([2])\n",
      "input_boxes torch.Size([1, 4])\n",
      "ground_truth_mask (1024, 1024)\n"
     ]
    }
   ],
   "source": [
    "example = train_dataset[0]\n",
    "for k,v in example.items():\n",
    "  print(k,v.shape)"
   ]
  },
  {
   "cell_type": "code",
   "execution_count": 19,
   "id": "895b42c0",
   "metadata": {},
   "outputs": [],
   "source": [
    "# Create a DataLoader instance for the training dataset\n",
    "from torch.utils.data import DataLoader\n",
    "train_dataloader = DataLoader(train_dataset, batch_size=2, shuffle=True, drop_last=False)"
   ]
  },
  {
   "cell_type": "code",
   "execution_count": 20,
   "id": "511313f5",
   "metadata": {},
   "outputs": [
    {
     "name": "stdout",
     "output_type": "stream",
     "text": [
      "pixel_values torch.Size([2, 3, 1024, 1024])\n",
      "original_sizes torch.Size([2, 2])\n",
      "reshaped_input_sizes torch.Size([2, 2])\n",
      "input_boxes torch.Size([2, 1, 4])\n",
      "ground_truth_mask torch.Size([2, 1024, 1024])\n"
     ]
    }
   ],
   "source": [
    "batch = next(iter(train_dataloader))\n",
    "for k,v in batch.items():\n",
    "  print(k,v.shape)"
   ]
  },
  {
   "cell_type": "code",
   "execution_count": 21,
   "id": "9b089f43",
   "metadata": {},
   "outputs": [
    {
     "data": {
      "text/plain": [
       "torch.Size([2, 1024, 1024])"
      ]
     },
     "execution_count": 21,
     "metadata": {},
     "output_type": "execute_result"
    }
   ],
   "source": [
    "batch[\"ground_truth_mask\"].shape"
   ]
  },
  {
   "cell_type": "code",
   "execution_count": 22,
   "id": "f4281ae8",
   "metadata": {},
   "outputs": [],
   "source": [
    "# Load the model\n",
    "from transformers import SamModel\n",
    "model = SamModel.from_pretrained(\"facebook/sam-vit-base\")\n",
    "\n",
    "# make sure we only compute gradients for mask decoder\n",
    "for name, param in model.named_parameters():\n",
    "  if name.startswith(\"vision_encoder\") or name.startswith(\"prompt_encoder\"):\n",
    "    param.requires_grad_(False)"
   ]
  },
  {
   "cell_type": "code",
   "execution_count": 23,
   "id": "c0455086",
   "metadata": {},
   "outputs": [],
   "source": [
    "from torch.optim import Adam\n",
    "import monai\n",
    "# Initialize the optimizer and the loss function\n",
    "optimizer = Adam(model.mask_decoder.parameters(), lr=1e-5, weight_decay=0)\n",
    "#Try DiceFocalLoss, FocalLoss, DiceCELoss\n",
    "seg_loss = monai.losses.DiceCELoss(sigmoid=True, squared_pred=True, reduction='mean')"
   ]
  },
  {
   "cell_type": "code",
   "execution_count": 24,
   "id": "676fa699",
   "metadata": {},
   "outputs": [
    {
     "name": "stderr",
     "output_type": "stream",
     "text": [
      "  1%|▏         | 1/80 [00:01<01:20,  1.02s/it]"
     ]
    },
    {
     "name": "stdout",
     "output_type": "stream",
     "text": [
      "Predicted masks shape: torch.Size([2, 1, 256, 256])\n",
      "Ground truth masks shape: torch.Size([2, 1024, 1024])\n"
     ]
    },
    {
     "name": "stderr",
     "output_type": "stream",
     "text": [
      "100%|██████████| 80/80 [00:57<00:00,  1.38it/s]\n"
     ]
    },
    {
     "name": "stdout",
     "output_type": "stream",
     "text": [
      "EPOCH: 0\n",
      "Mean loss: 0.3435465535148978\n"
     ]
    },
    {
     "name": "stderr",
     "output_type": "stream",
     "text": [
      "  1%|▏         | 1/80 [00:00<00:56,  1.40it/s]"
     ]
    },
    {
     "name": "stdout",
     "output_type": "stream",
     "text": [
      "Predicted masks shape: torch.Size([2, 1, 256, 256])\n",
      "Ground truth masks shape: torch.Size([2, 1024, 1024])\n"
     ]
    },
    {
     "name": "stderr",
     "output_type": "stream",
     "text": [
      "100%|██████████| 80/80 [00:57<00:00,  1.39it/s]\n"
     ]
    },
    {
     "name": "stdout",
     "output_type": "stream",
     "text": [
      "EPOCH: 1\n",
      "Mean loss: 0.2062937520444393\n"
     ]
    },
    {
     "name": "stderr",
     "output_type": "stream",
     "text": [
      "  1%|▏         | 1/80 [00:00<00:56,  1.39it/s]"
     ]
    },
    {
     "name": "stdout",
     "output_type": "stream",
     "text": [
      "Predicted masks shape: torch.Size([2, 1, 256, 256])\n",
      "Ground truth masks shape: torch.Size([2, 1024, 1024])\n"
     ]
    },
    {
     "name": "stderr",
     "output_type": "stream",
     "text": [
      "100%|██████████| 80/80 [00:57<00:00,  1.39it/s]\n"
     ]
    },
    {
     "name": "stdout",
     "output_type": "stream",
     "text": [
      "EPOCH: 2\n",
      "Mean loss: 0.16340285986661912\n"
     ]
    },
    {
     "name": "stderr",
     "output_type": "stream",
     "text": [
      "  1%|▏         | 1/80 [00:00<00:57,  1.39it/s]"
     ]
    },
    {
     "name": "stdout",
     "output_type": "stream",
     "text": [
      "Predicted masks shape: torch.Size([2, 1, 256, 256])\n",
      "Ground truth masks shape: torch.Size([2, 1024, 1024])\n"
     ]
    },
    {
     "name": "stderr",
     "output_type": "stream",
     "text": [
      "100%|██████████| 80/80 [00:57<00:00,  1.38it/s]\n"
     ]
    },
    {
     "name": "stdout",
     "output_type": "stream",
     "text": [
      "EPOCH: 3\n",
      "Mean loss: 0.13111149091273547\n"
     ]
    },
    {
     "name": "stderr",
     "output_type": "stream",
     "text": [
      "  1%|▏         | 1/80 [00:00<00:56,  1.41it/s]"
     ]
    },
    {
     "name": "stdout",
     "output_type": "stream",
     "text": [
      "Predicted masks shape: torch.Size([2, 1, 256, 256])\n",
      "Ground truth masks shape: torch.Size([2, 1024, 1024])\n"
     ]
    },
    {
     "name": "stderr",
     "output_type": "stream",
     "text": [
      "100%|██████████| 80/80 [00:57<00:00,  1.39it/s]\n"
     ]
    },
    {
     "name": "stdout",
     "output_type": "stream",
     "text": [
      "EPOCH: 4\n",
      "Mean loss: 0.10925358645617962\n"
     ]
    },
    {
     "name": "stderr",
     "output_type": "stream",
     "text": [
      "  1%|▏         | 1/80 [00:00<00:56,  1.39it/s]"
     ]
    },
    {
     "name": "stdout",
     "output_type": "stream",
     "text": [
      "Predicted masks shape: torch.Size([2, 1, 256, 256])\n",
      "Ground truth masks shape: torch.Size([2, 1024, 1024])\n"
     ]
    },
    {
     "name": "stderr",
     "output_type": "stream",
     "text": [
      "100%|██████████| 80/80 [00:57<00:00,  1.39it/s]\n"
     ]
    },
    {
     "name": "stdout",
     "output_type": "stream",
     "text": [
      "EPOCH: 5\n",
      "Mean loss: 0.09573947531171142\n"
     ]
    },
    {
     "name": "stderr",
     "output_type": "stream",
     "text": [
      "  1%|▏         | 1/80 [00:00<00:55,  1.42it/s]"
     ]
    },
    {
     "name": "stdout",
     "output_type": "stream",
     "text": [
      "Predicted masks shape: torch.Size([2, 1, 256, 256])\n",
      "Ground truth masks shape: torch.Size([2, 1024, 1024])\n"
     ]
    },
    {
     "name": "stderr",
     "output_type": "stream",
     "text": [
      "100%|██████████| 80/80 [00:57<00:00,  1.38it/s]\n"
     ]
    },
    {
     "name": "stdout",
     "output_type": "stream",
     "text": [
      "EPOCH: 6\n",
      "Mean loss: 0.08198756561614573\n"
     ]
    },
    {
     "name": "stderr",
     "output_type": "stream",
     "text": [
      "  1%|▏         | 1/80 [00:00<00:56,  1.40it/s]"
     ]
    },
    {
     "name": "stdout",
     "output_type": "stream",
     "text": [
      "Predicted masks shape: torch.Size([2, 1, 256, 256])\n",
      "Ground truth masks shape: torch.Size([2, 1024, 1024])\n"
     ]
    },
    {
     "name": "stderr",
     "output_type": "stream",
     "text": [
      "100%|██████████| 80/80 [00:57<00:00,  1.39it/s]\n"
     ]
    },
    {
     "name": "stdout",
     "output_type": "stream",
     "text": [
      "EPOCH: 7\n",
      "Mean loss: 0.07555049653165043\n"
     ]
    },
    {
     "name": "stderr",
     "output_type": "stream",
     "text": [
      "  1%|▏         | 1/80 [00:00<00:57,  1.38it/s]"
     ]
    },
    {
     "name": "stdout",
     "output_type": "stream",
     "text": [
      "Predicted masks shape: torch.Size([2, 1, 256, 256])\n",
      "Ground truth masks shape: torch.Size([2, 1024, 1024])\n"
     ]
    },
    {
     "name": "stderr",
     "output_type": "stream",
     "text": [
      "100%|██████████| 80/80 [00:57<00:00,  1.39it/s]\n"
     ]
    },
    {
     "name": "stdout",
     "output_type": "stream",
     "text": [
      "EPOCH: 8\n",
      "Mean loss: 0.07186089931055903\n"
     ]
    },
    {
     "name": "stderr",
     "output_type": "stream",
     "text": [
      "  1%|▏         | 1/80 [00:00<00:56,  1.39it/s]"
     ]
    },
    {
     "name": "stdout",
     "output_type": "stream",
     "text": [
      "Predicted masks shape: torch.Size([2, 1, 256, 256])\n",
      "Ground truth masks shape: torch.Size([2, 1024, 1024])\n"
     ]
    },
    {
     "name": "stderr",
     "output_type": "stream",
     "text": [
      "100%|██████████| 80/80 [00:57<00:00,  1.39it/s]\n"
     ]
    },
    {
     "name": "stdout",
     "output_type": "stream",
     "text": [
      "EPOCH: 9\n",
      "Mean loss: 0.06304094740189611\n"
     ]
    },
    {
     "name": "stderr",
     "output_type": "stream",
     "text": [
      "  1%|▏         | 1/80 [00:00<00:57,  1.38it/s]"
     ]
    },
    {
     "name": "stdout",
     "output_type": "stream",
     "text": [
      "Predicted masks shape: torch.Size([2, 1, 256, 256])\n",
      "Ground truth masks shape: torch.Size([2, 1024, 1024])\n"
     ]
    },
    {
     "name": "stderr",
     "output_type": "stream",
     "text": [
      "100%|██████████| 80/80 [00:57<00:00,  1.39it/s]\n"
     ]
    },
    {
     "name": "stdout",
     "output_type": "stream",
     "text": [
      "EPOCH: 10\n",
      "Mean loss: 0.061540267895907164\n"
     ]
    },
    {
     "name": "stderr",
     "output_type": "stream",
     "text": [
      "  1%|▏         | 1/80 [00:00<00:57,  1.38it/s]"
     ]
    },
    {
     "name": "stdout",
     "output_type": "stream",
     "text": [
      "Predicted masks shape: torch.Size([2, 1, 256, 256])\n",
      "Ground truth masks shape: torch.Size([2, 1024, 1024])\n"
     ]
    },
    {
     "name": "stderr",
     "output_type": "stream",
     "text": [
      "100%|██████████| 80/80 [00:58<00:00,  1.37it/s]\n"
     ]
    },
    {
     "name": "stdout",
     "output_type": "stream",
     "text": [
      "EPOCH: 11\n",
      "Mean loss: 0.059596101148054005\n"
     ]
    },
    {
     "name": "stderr",
     "output_type": "stream",
     "text": [
      "  1%|▏         | 1/80 [00:00<00:56,  1.39it/s]"
     ]
    },
    {
     "name": "stdout",
     "output_type": "stream",
     "text": [
      "Predicted masks shape: torch.Size([2, 1, 256, 256])\n",
      "Ground truth masks shape: torch.Size([2, 1024, 1024])\n"
     ]
    },
    {
     "name": "stderr",
     "output_type": "stream",
     "text": [
      "100%|██████████| 80/80 [00:57<00:00,  1.39it/s]\n"
     ]
    },
    {
     "name": "stdout",
     "output_type": "stream",
     "text": [
      "EPOCH: 12\n",
      "Mean loss: 0.0568385535851121\n"
     ]
    },
    {
     "name": "stderr",
     "output_type": "stream",
     "text": [
      "  1%|▏         | 1/80 [00:00<00:56,  1.39it/s]"
     ]
    },
    {
     "name": "stdout",
     "output_type": "stream",
     "text": [
      "Predicted masks shape: torch.Size([2, 1, 256, 256])\n",
      "Ground truth masks shape: torch.Size([2, 1024, 1024])\n"
     ]
    },
    {
     "name": "stderr",
     "output_type": "stream",
     "text": [
      "100%|██████████| 80/80 [00:57<00:00,  1.39it/s]\n"
     ]
    },
    {
     "name": "stdout",
     "output_type": "stream",
     "text": [
      "EPOCH: 13\n",
      "Mean loss: 0.05578534477390349\n"
     ]
    },
    {
     "name": "stderr",
     "output_type": "stream",
     "text": [
      "  1%|▏         | 1/80 [00:00<00:57,  1.38it/s]"
     ]
    },
    {
     "name": "stdout",
     "output_type": "stream",
     "text": [
      "Predicted masks shape: torch.Size([2, 1, 256, 256])\n",
      "Ground truth masks shape: torch.Size([2, 1024, 1024])\n"
     ]
    },
    {
     "name": "stderr",
     "output_type": "stream",
     "text": [
      "100%|██████████| 80/80 [00:57<00:00,  1.38it/s]\n"
     ]
    },
    {
     "name": "stdout",
     "output_type": "stream",
     "text": [
      "EPOCH: 14\n",
      "Mean loss: 0.053911564871668816\n"
     ]
    },
    {
     "name": "stderr",
     "output_type": "stream",
     "text": [
      "  1%|▏         | 1/80 [00:00<00:56,  1.39it/s]"
     ]
    },
    {
     "name": "stdout",
     "output_type": "stream",
     "text": [
      "Predicted masks shape: torch.Size([2, 1, 256, 256])\n",
      "Ground truth masks shape: torch.Size([2, 1024, 1024])\n"
     ]
    },
    {
     "name": "stderr",
     "output_type": "stream",
     "text": [
      "100%|██████████| 80/80 [00:58<00:00,  1.37it/s]\n"
     ]
    },
    {
     "name": "stdout",
     "output_type": "stream",
     "text": [
      "EPOCH: 15\n",
      "Mean loss: 0.051232219906523824\n"
     ]
    },
    {
     "name": "stderr",
     "output_type": "stream",
     "text": [
      "  1%|▏         | 1/80 [00:00<00:56,  1.39it/s]"
     ]
    },
    {
     "name": "stdout",
     "output_type": "stream",
     "text": [
      "Predicted masks shape: torch.Size([2, 1, 256, 256])\n",
      "Ground truth masks shape: torch.Size([2, 1024, 1024])\n"
     ]
    },
    {
     "name": "stderr",
     "output_type": "stream",
     "text": [
      "100%|██████████| 80/80 [00:57<00:00,  1.39it/s]\n"
     ]
    },
    {
     "name": "stdout",
     "output_type": "stream",
     "text": [
      "EPOCH: 16\n",
      "Mean loss: 0.04735778290778399\n"
     ]
    },
    {
     "name": "stderr",
     "output_type": "stream",
     "text": [
      "  1%|▏         | 1/80 [00:00<00:56,  1.40it/s]"
     ]
    },
    {
     "name": "stdout",
     "output_type": "stream",
     "text": [
      "Predicted masks shape: torch.Size([2, 1, 256, 256])\n",
      "Ground truth masks shape: torch.Size([2, 1024, 1024])\n"
     ]
    },
    {
     "name": "stderr",
     "output_type": "stream",
     "text": [
      "100%|██████████| 80/80 [00:57<00:00,  1.38it/s]\n"
     ]
    },
    {
     "name": "stdout",
     "output_type": "stream",
     "text": [
      "EPOCH: 17\n",
      "Mean loss: 0.04608532693237066\n"
     ]
    },
    {
     "name": "stderr",
     "output_type": "stream",
     "text": [
      "  1%|▏         | 1/80 [00:00<00:56,  1.39it/s]"
     ]
    },
    {
     "name": "stdout",
     "output_type": "stream",
     "text": [
      "Predicted masks shape: torch.Size([2, 1, 256, 256])\n",
      "Ground truth masks shape: torch.Size([2, 1024, 1024])\n"
     ]
    },
    {
     "name": "stderr",
     "output_type": "stream",
     "text": [
      "100%|██████████| 80/80 [00:57<00:00,  1.39it/s]\n"
     ]
    },
    {
     "name": "stdout",
     "output_type": "stream",
     "text": [
      "EPOCH: 18\n",
      "Mean loss: 0.04427267611026764\n"
     ]
    },
    {
     "name": "stderr",
     "output_type": "stream",
     "text": [
      "  1%|▏         | 1/80 [00:00<00:57,  1.36it/s]"
     ]
    },
    {
     "name": "stdout",
     "output_type": "stream",
     "text": [
      "Predicted masks shape: torch.Size([2, 1, 256, 256])\n",
      "Ground truth masks shape: torch.Size([2, 1024, 1024])\n"
     ]
    },
    {
     "name": "stderr",
     "output_type": "stream",
     "text": [
      "100%|██████████| 80/80 [00:57<00:00,  1.38it/s]"
     ]
    },
    {
     "name": "stdout",
     "output_type": "stream",
     "text": [
      "EPOCH: 19\n",
      "Mean loss: 0.044536300795152785\n"
     ]
    },
    {
     "name": "stderr",
     "output_type": "stream",
     "text": [
      "\n"
     ]
    }
   ],
   "source": [
    "from tqdm import tqdm\n",
    "from statistics import mean\n",
    "import torch\n",
    "from torch.nn.functional import threshold, normalize, interpolate\n",
    "\n",
    "#Training loop\n",
    "num_epochs = 20\n",
    "\n",
    "device = \"cuda\" if torch.cuda.is_available() else \"cpu\"\n",
    "model.to(device)\n",
    "\n",
    "model.train()\n",
    "for epoch in range(num_epochs):\n",
    "    epoch_losses = []\n",
    "    for batch_idx, batch in enumerate(tqdm(train_dataloader)):\n",
    "      # forward pass\n",
    "      outputs = model(pixel_values=batch[\"pixel_values\"].to(device),\n",
    "                      input_boxes=batch[\"input_boxes\"].to(device),\n",
    "                      multimask_output=False)\n",
    "\n",
    "      # compute loss\n",
    "      predicted_masks = outputs.pred_masks.squeeze(1)\n",
    "      ground_truth_masks = batch[\"ground_truth_mask\"].float().to(device)\n",
    "      \n",
    "      # Debug prints for the first batch\n",
    "      if batch_idx == 0:\n",
    "          print(f\"Predicted masks shape: {predicted_masks.shape}\")\n",
    "          print(f\"Ground truth masks shape: {ground_truth_masks.shape}\")\n",
    "      \n",
    "      # Resize ground truth masks to match predicted masks size\n",
    "      # SAM outputs masks at lower resolution than input\n",
    "      if ground_truth_masks.shape[-2:] != predicted_masks.shape[-2:]:\n",
    "          ground_truth_masks = interpolate(ground_truth_masks.unsqueeze(1), \n",
    "                                         size=predicted_masks.shape[-2:], \n",
    "                                         mode='bilinear', \n",
    "                                         align_corners=False).squeeze(1)\n",
    "      \n",
    "      loss = seg_loss(predicted_masks, ground_truth_masks.unsqueeze(1))\n",
    "\n",
    "      # backward pass (compute gradients of parameters w.r.t. loss)\n",
    "      optimizer.zero_grad()\n",
    "      loss.backward()\n",
    "\n",
    "      # optimize\n",
    "      optimizer.step()\n",
    "      epoch_losses.append(loss.item())\n",
    "\n",
    "    print(f'EPOCH: {epoch}')\n",
    "    print(f'Mean loss: {mean(epoch_losses)}')"
   ]
  },
  {
   "cell_type": "code",
   "execution_count": 25,
   "id": "1b465223",
   "metadata": {},
   "outputs": [
    {
     "data": {
      "text/plain": [
       "'from tqdm import tqdm\\nfrom statistics import mean\\nimport torch\\nfrom torch.nn.functional import threshold, normalize\\nfrom torch.amp import autocast, GradScaler\\n\\n# Training loop\\nnum_epochs = 1\\ndevice = \"cuda\" if torch.cuda.is_available() else \"cpu\"\\nmodel.to(device)\\nmodel.train()\\n\\n# Initialize GradScaler for mixed precision\\nscaler = GradScaler(device)\\n\\nfor epoch in range(num_epochs):\\n    epoch_losses = []\\n    for batch in tqdm(train_dataloader):\\n        # Use autocast for mixed precision\\n        with autocast(device_type=device):\\n            # forward pass\\n            outputs = model(pixel_values=batch[\"pixel_values\"].to(device),\\n                          input_boxes=batch[\"input_boxes\"].to(device),\\n                          multimask_output=False)\\n            \\n            # compute loss\\n            predicted_masks = outputs.pred_masks.squeeze(1)\\n            ground_truth_masks = batch[\"ground_truth_mask\"].float().to(device)\\n            loss = seg_loss(predicted_masks, ground_truth_masks.unsqueeze(1))\\n        \\n        # backward pass (compute gradients of parameters w.r.t. loss)\\n        optimizer.zero_grad()\\n        scaler.scale(loss).backward()\\n        \\n        # optimize\\n        scaler.step(optimizer)\\n        scaler.update()\\n        \\n        epoch_losses.append(loss.item())\\n    \\n    print(f\\'EPOCH: {epoch}\\')\\n    print(f\\'Mean loss: {mean(epoch_losses)}\\')'"
      ]
     },
     "execution_count": 25,
     "metadata": {},
     "output_type": "execute_result"
    }
   ],
   "source": [
    "\"\"\"from tqdm import tqdm\n",
    "from statistics import mean\n",
    "import torch\n",
    "from torch.nn.functional import threshold, normalize\n",
    "from torch.amp import autocast, GradScaler\n",
    "\n",
    "# Training loop\n",
    "num_epochs = 1\n",
    "device = \"cuda\" if torch.cuda.is_available() else \"cpu\"\n",
    "model.to(device)\n",
    "model.train()\n",
    "\n",
    "# Initialize GradScaler for mixed precision\n",
    "scaler = GradScaler(device)\n",
    "\n",
    "for epoch in range(num_epochs):\n",
    "    epoch_losses = []\n",
    "    for batch in tqdm(train_dataloader):\n",
    "        # Use autocast for mixed precision\n",
    "        with autocast(device_type=device):\n",
    "            # forward pass\n",
    "            outputs = model(pixel_values=batch[\"pixel_values\"].to(device),\n",
    "                          input_boxes=batch[\"input_boxes\"].to(device),\n",
    "                          multimask_output=False)\n",
    "            \n",
    "            # compute loss\n",
    "            predicted_masks = outputs.pred_masks.squeeze(1)\n",
    "            ground_truth_masks = batch[\"ground_truth_mask\"].float().to(device)\n",
    "            loss = seg_loss(predicted_masks, ground_truth_masks.unsqueeze(1))\n",
    "        \n",
    "        # backward pass (compute gradients of parameters w.r.t. loss)\n",
    "        optimizer.zero_grad()\n",
    "        scaler.scale(loss).backward()\n",
    "        \n",
    "        # optimize\n",
    "        scaler.step(optimizer)\n",
    "        scaler.update()\n",
    "        \n",
    "        epoch_losses.append(loss.item())\n",
    "    \n",
    "    print(f'EPOCH: {epoch}')\n",
    "    print(f'Mean loss: {mean(epoch_losses)}')\"\"\""
   ]
  },
  {
   "cell_type": "code",
   "execution_count": 26,
   "id": "587b1521",
   "metadata": {},
   "outputs": [],
   "source": [
    "# Save the model's state dictionary to a file\n",
    "torch.save(model.state_dict(), \"models/mito_model_checkpoint.pth\")"
   ]
  },
  {
   "cell_type": "markdown",
   "id": "8da7e72f",
   "metadata": {},
   "source": [
    "# INFERENCE"
   ]
  },
  {
   "cell_type": "code",
   "execution_count": 27,
   "id": "e10eabe1",
   "metadata": {},
   "outputs": [
    {
     "data": {
      "text/plain": [
       "<All keys matched successfully>"
      ]
     },
     "execution_count": 27,
     "metadata": {},
     "output_type": "execute_result"
    }
   ],
   "source": [
    "from transformers import SamModel, SamConfig, SamProcessor\n",
    "import torch\n",
    "# Load the model configuration\n",
    "model_config = SamConfig.from_pretrained(\"facebook/sam-vit-base\")\n",
    "processor = SamProcessor.from_pretrained(\"facebook/sam-vit-base\")\n",
    "# Create an instance of the model architecture with the loaded configuration\n",
    "my_mito_model = SamModel(config=model_config)\n",
    "#Update the model by loading the weights from saved file.\n",
    "my_mito_model.load_state_dict(torch.load(\"models/mito_model_checkpoint.pth\"))"
   ]
  },
  {
   "cell_type": "code",
   "execution_count": 28,
   "id": "73886365",
   "metadata": {},
   "outputs": [
    {
     "data": {
      "text/plain": [
       "SamModel(\n",
       "  (shared_image_embedding): SamPositionalEmbedding()\n",
       "  (vision_encoder): SamVisionEncoder(\n",
       "    (patch_embed): SamPatchEmbeddings(\n",
       "      (projection): Conv2d(3, 768, kernel_size=(16, 16), stride=(16, 16))\n",
       "    )\n",
       "    (layers): ModuleList(\n",
       "      (0-11): 12 x SamVisionLayer(\n",
       "        (layer_norm1): LayerNorm((768,), eps=1e-06, elementwise_affine=True)\n",
       "        (attn): SamVisionSdpaAttention(\n",
       "          (qkv): Linear(in_features=768, out_features=2304, bias=True)\n",
       "          (proj): Linear(in_features=768, out_features=768, bias=True)\n",
       "        )\n",
       "        (layer_norm2): LayerNorm((768,), eps=1e-06, elementwise_affine=True)\n",
       "        (mlp): SamMLPBlock(\n",
       "          (lin1): Linear(in_features=768, out_features=3072, bias=True)\n",
       "          (lin2): Linear(in_features=3072, out_features=768, bias=True)\n",
       "          (act): GELUActivation()\n",
       "        )\n",
       "      )\n",
       "    )\n",
       "    (neck): SamVisionNeck(\n",
       "      (conv1): Conv2d(768, 256, kernel_size=(1, 1), stride=(1, 1), bias=False)\n",
       "      (layer_norm1): SamLayerNorm((256,), eps=1e-06, elementwise_affine=True)\n",
       "      (conv2): Conv2d(256, 256, kernel_size=(3, 3), stride=(1, 1), padding=(1, 1), bias=False)\n",
       "      (layer_norm2): SamLayerNorm((256,), eps=1e-06, elementwise_affine=True)\n",
       "    )\n",
       "  )\n",
       "  (prompt_encoder): SamPromptEncoder(\n",
       "    (shared_embedding): SamPositionalEmbedding()\n",
       "    (mask_embed): SamMaskEmbedding(\n",
       "      (activation): GELUActivation()\n",
       "      (conv1): Conv2d(1, 4, kernel_size=(2, 2), stride=(2, 2))\n",
       "      (conv2): Conv2d(4, 16, kernel_size=(2, 2), stride=(2, 2))\n",
       "      (conv3): Conv2d(16, 256, kernel_size=(1, 1), stride=(1, 1))\n",
       "      (layer_norm1): SamLayerNorm((4,), eps=1e-06, elementwise_affine=True)\n",
       "      (layer_norm2): SamLayerNorm((16,), eps=1e-06, elementwise_affine=True)\n",
       "    )\n",
       "    (no_mask_embed): Embedding(1, 256)\n",
       "    (point_embed): ModuleList(\n",
       "      (0-3): 4 x Embedding(1, 256)\n",
       "    )\n",
       "    (not_a_point_embed): Embedding(1, 256)\n",
       "  )\n",
       "  (mask_decoder): SamMaskDecoder(\n",
       "    (iou_token): Embedding(1, 256)\n",
       "    (mask_tokens): Embedding(4, 256)\n",
       "    (transformer): SamTwoWayTransformer(\n",
       "      (layers): ModuleList(\n",
       "        (0-1): 2 x SamTwoWayAttentionBlock(\n",
       "          (self_attn): SamAttention(\n",
       "            (q_proj): Linear(in_features=256, out_features=256, bias=True)\n",
       "            (k_proj): Linear(in_features=256, out_features=256, bias=True)\n",
       "            (v_proj): Linear(in_features=256, out_features=256, bias=True)\n",
       "            (out_proj): Linear(in_features=256, out_features=256, bias=True)\n",
       "          )\n",
       "          (layer_norm1): LayerNorm((256,), eps=1e-06, elementwise_affine=True)\n",
       "          (cross_attn_token_to_image): SamAttention(\n",
       "            (q_proj): Linear(in_features=256, out_features=128, bias=True)\n",
       "            (k_proj): Linear(in_features=256, out_features=128, bias=True)\n",
       "            (v_proj): Linear(in_features=256, out_features=128, bias=True)\n",
       "            (out_proj): Linear(in_features=128, out_features=256, bias=True)\n",
       "          )\n",
       "          (layer_norm2): LayerNorm((256,), eps=1e-06, elementwise_affine=True)\n",
       "          (mlp): SamMLPBlock(\n",
       "            (lin1): Linear(in_features=256, out_features=2048, bias=True)\n",
       "            (lin2): Linear(in_features=2048, out_features=256, bias=True)\n",
       "            (act): ReLU()\n",
       "          )\n",
       "          (layer_norm3): LayerNorm((256,), eps=1e-06, elementwise_affine=True)\n",
       "          (layer_norm4): LayerNorm((256,), eps=1e-06, elementwise_affine=True)\n",
       "          (cross_attn_image_to_token): SamAttention(\n",
       "            (q_proj): Linear(in_features=256, out_features=128, bias=True)\n",
       "            (k_proj): Linear(in_features=256, out_features=128, bias=True)\n",
       "            (v_proj): Linear(in_features=256, out_features=128, bias=True)\n",
       "            (out_proj): Linear(in_features=128, out_features=256, bias=True)\n",
       "          )\n",
       "        )\n",
       "      )\n",
       "      (final_attn_token_to_image): SamAttention(\n",
       "        (q_proj): Linear(in_features=256, out_features=128, bias=True)\n",
       "        (k_proj): Linear(in_features=256, out_features=128, bias=True)\n",
       "        (v_proj): Linear(in_features=256, out_features=128, bias=True)\n",
       "        (out_proj): Linear(in_features=128, out_features=256, bias=True)\n",
       "      )\n",
       "      (layer_norm_final_attn): LayerNorm((256,), eps=1e-05, elementwise_affine=True)\n",
       "    )\n",
       "    (upscale_conv1): ConvTranspose2d(256, 64, kernel_size=(2, 2), stride=(2, 2))\n",
       "    (upscale_conv2): ConvTranspose2d(64, 32, kernel_size=(2, 2), stride=(2, 2))\n",
       "    (upscale_layer_norm): SamLayerNorm((64,), eps=1e-06, elementwise_affine=True)\n",
       "    (activation): GELU(approximate='none')\n",
       "    (output_hypernetworks_mlps): ModuleList(\n",
       "      (0-3): 4 x SamFeedForward(\n",
       "        (activation): ReLU()\n",
       "        (proj_in): Linear(in_features=256, out_features=256, bias=True)\n",
       "        (proj_out): Linear(in_features=256, out_features=32, bias=True)\n",
       "        (layers): ModuleList(\n",
       "          (0): Linear(in_features=256, out_features=256, bias=True)\n",
       "        )\n",
       "      )\n",
       "    )\n",
       "    (iou_prediction_head): SamFeedForward(\n",
       "      (activation): ReLU()\n",
       "      (proj_in): Linear(in_features=256, out_features=256, bias=True)\n",
       "      (proj_out): Linear(in_features=256, out_features=4, bias=True)\n",
       "      (layers): ModuleList(\n",
       "        (0): Linear(in_features=256, out_features=256, bias=True)\n",
       "      )\n",
       "    )\n",
       "  )\n",
       ")"
      ]
     },
     "execution_count": 28,
     "metadata": {},
     "output_type": "execute_result"
    }
   ],
   "source": [
    "# set the device to cuda if available, otherwise use cpu\n",
    "device = \"cuda\" if torch.cuda.is_available() else \"cpu\"\n",
    "my_mito_model.to(device)"
   ]
  },
  {
   "cell_type": "code",
   "execution_count": 45,
   "id": "74499650",
   "metadata": {},
   "outputs": [
    {
     "data": {
      "image/png": "[encoded data removed]",
      "text/plain": [
       "<Figure size 1500x500 with 3 Axes>"
      ]
     },
     "metadata": {},
     "output_type": "display_data"
    }
   ],
   "source": [
    "import numpy as np\n",
    "import random\n",
    "import torch\n",
    "import matplotlib.pyplot as plt\n",
    "\n",
    "# let's take a random training example\n",
    "idx = random.randint(0, filtered_images.shape[0]-1)\n",
    "\n",
    "# load image\n",
    "test_image = dataset[idx][\"image\"]\n",
    "\n",
    "# get box prompt based on ground truth segmentation map\n",
    "ground_truth_mask = np.array(dataset[idx][\"label\"])\n",
    "prompt = get_bounding_box(ground_truth_mask)\n",
    "\n",
    "# prepare image + box prompt for the model\n",
    "inputs = processor(test_image, input_boxes=[[prompt]], return_tensors=\"pt\")\n",
    "\n",
    "# Move the input tensor to the GPU if it's not already there\n",
    "inputs = {k: v.to(device) for k, v in inputs.items()}\n",
    "\n",
    "my_mito_model.eval()\n",
    "\n",
    "# forward pass\n",
    "with torch.no_grad():\n",
    "    outputs = my_mito_model(**inputs, multimask_output=False)\n",
    "\n",
    "# apply sigmoid\n",
    "medsam_seg_prob = torch.sigmoid(outputs.pred_masks.squeeze(1))\n",
    "# convert soft mask to hard mask\n",
    "medsam_seg_prob = medsam_seg_prob.cpu().numpy().squeeze()\n",
    "medsam_seg = (medsam_seg_prob > 0.5).astype(np.uint8)\n",
    "\n",
    "\n",
    "fig, axes = plt.subplots(1, 3, figsize=(15, 5))\n",
    "\n",
    "# Plot the first image on the left\n",
    "axes[0].imshow(np.array(test_image), cmap='gray')  # Assuming the first image is grayscale\n",
    "axes[0].set_title(\"Image\")\n",
    "\n",
    "# Plot the second image on the right\n",
    "axes[1].imshow(medsam_seg, cmap='gray')  # Assuming the second image is grayscale\n",
    "axes[1].set_title(\"Mask\")\n",
    "\n",
    "# Plot the second image on the right\n",
    "axes[2].imshow(medsam_seg_prob)  # Assuming the second image is grayscale\n",
    "axes[2].set_title(\"Probability Map\")\n",
    "\n",
    "# Hide axis ticks and labels\n",
    "for ax in axes:\n",
    "    ax.set_xticks([])\n",
    "    ax.set_yticks([])\n",
    "    ax.set_xticklabels([])\n",
    "    ax.set_yticklabels([])\n",
    "\n",
    "# Display the images side by side\n",
    "plt.show()"
   ]
  },
  {
   "cell_type": "code",
   "execution_count": 30,
   "id": "666b4235",
   "metadata": {},
   "outputs": [],
   "source": [
    "\"\"\"#Apply a trained model on large image\n",
    "large_images_test = np.array(large_images_test)  # shape: (N, H, W, 3)\n",
    "#large_masks_test  = np.array(large_masks_test)   # shape: (N, H, W)\n",
    "large_test_image = large_images_test[1]\n",
    "patches = patchify(large_test_image, (256, 256), step=256)  #Step=256 for 256 patches means no overlap\n",
    "\"\"\"\n",
    "# Apply a trained model on large image\n",
    "large_images_test = np.array(large_images_test)  # shape: (N, H, W, 3)\n",
    "large_test_image = large_images_test[1]\n",
    "\n",
    "# Include the channel dimension in patch_size\n",
    "patches = patchify(large_test_image, (1024, 1024, 3), step=1024)"
   ]
  },
  {
   "cell_type": "code",
   "execution_count": 31,
   "id": "962e8bca",
   "metadata": {},
   "outputs": [
    {
     "name": "stdout",
     "output_type": "stream",
     "text": [
      "(1, 1, 100, 2)\n"
     ]
    }
   ],
   "source": [
    "\n",
    "\"\"\"\n",
    "input_points (torch.FloatTensor of shape (batch_size, num_points, 2)) —\n",
    "Input 2D spatial points, this is used by the prompt encoder to encode the prompt.\n",
    "Generally yields to much better results. The points can be obtained by passing a\n",
    "list of list of list to the processor that will create corresponding torch tensors\n",
    "of dimension 4. The first dimension is the image batch size, the second dimension\n",
    "is the point batch size (i.e. how many segmentation masks do we want the model to\n",
    "predict per input point), the third dimension is the number of points per segmentation\n",
    "mask (it is possible to pass multiple points for a single mask), and the last dimension\n",
    "is the x (vertical) and y (horizontal) coordinates of the point. If a different number\n",
    "of points is passed either for each image, or for each mask, the processor will create\n",
    "“PAD” points that will correspond to the (0, 0) coordinate, and the computation of the\n",
    "embedding will be skipped for these points using the labels.\n",
    "\n",
    "\"\"\"\n",
    "# Define the size of your array\n",
    "array_size = 256\n",
    "\n",
    "# Define the size of your grid\n",
    "grid_size = 10\n",
    "\n",
    "# Generate the grid points\n",
    "x = np.linspace(0, array_size-1, grid_size)\n",
    "y = np.linspace(0, array_size-1, grid_size)\n",
    "\n",
    "# Generate a grid of coordinates\n",
    "xv, yv = np.meshgrid(x, y)\n",
    "\n",
    "# Convert the numpy arrays to lists\n",
    "xv_list = xv.tolist()\n",
    "yv_list = yv.tolist()\n",
    "\n",
    "# Combine the x and y coordinates into a list of list of lists\n",
    "input_points = [[[int(x), int(y)] for x, y in zip(x_row, y_row)] for x_row, y_row in zip(xv_list, yv_list)]\n",
    "\n",
    "#We need to reshape our nxn grid to the expected shape of the input_points tensor\n",
    "# (batch_size, point_batch_size, num_points_per_image, 2),\n",
    "# where the last dimension of 2 represents the x and y coordinates of each point.\n",
    "#batch_size: The number of images you're processing at once.\n",
    "#point_batch_size: The number of point sets you have for each image.\n",
    "#num_points_per_image: The number of points in each set.\n",
    "input_points = torch.tensor(input_points).view(1, 1, grid_size*grid_size, 2)\n",
    "print(np.array(input_points).shape)"
   ]
  },
  {
   "cell_type": "code",
   "execution_count": 32,
   "id": "bab14e12",
   "metadata": {},
   "outputs": [
    {
     "data": {
      "text/plain": [
       "(1, 1, 1, 1024, 1024, 3)"
      ]
     },
     "execution_count": 32,
     "metadata": {},
     "output_type": "execute_result"
    }
   ],
   "source": [
    "patches.shape"
   ]
  },
  {
   "cell_type": "code",
   "execution_count": 33,
   "id": "4f37560a",
   "metadata": {},
   "outputs": [
    {
     "ename": "IndexError",
     "evalue": "index 1 is out of bounds for axis 0 with size 1",
     "output_type": "error",
     "traceback": [
      "\u001b[0;31m---------------------------------------------------------------------------\u001b[0m",
      "\u001b[0;31mIndexError\u001b[0m                                Traceback (most recent call last)",
      "Cell \u001b[0;32mIn[33], line 17\u001b[0m\n\u001b[1;32m     12\u001b[0m i, j \u001b[38;5;241m=\u001b[39m \u001b[38;5;241m1\u001b[39m, \u001b[38;5;241m2\u001b[39m\n\u001b[1;32m     15\u001b[0m \u001b[38;5;66;03m# Selectelected patch for segmentation\u001b[39;00m\n\u001b[1;32m     16\u001b[0m \u001b[38;5;66;03m#random_array = patches[i, j]\u001b[39;00m\n\u001b[0;32m---> 17\u001b[0m random_array \u001b[38;5;241m=\u001b[39m \u001b[43mpatches\u001b[49m\u001b[43m[\u001b[49m\u001b[43mi\u001b[49m\u001b[43m,\u001b[49m\u001b[43m \u001b[49m\u001b[43mj\u001b[49m\u001b[43m]\u001b[49m\u001b[38;5;241m.\u001b[39msqueeze()\n\u001b[1;32m     20\u001b[0m single_patch \u001b[38;5;241m=\u001b[39m Image\u001b[38;5;241m.\u001b[39mfromarray(random_array)\n\u001b[1;32m     21\u001b[0m \u001b[38;5;66;03m# prepare image for the model\u001b[39;00m\n\u001b[1;32m     22\u001b[0m \n\u001b[1;32m     23\u001b[0m \u001b[38;5;66;03m#First try without providing any prompt (no bounding box or input_points)\u001b[39;00m\n\u001b[1;32m     24\u001b[0m \u001b[38;5;66;03m#inputs = processor(single_patch, return_tensors=\"pt\")\u001b[39;00m\n\u001b[1;32m     25\u001b[0m \u001b[38;5;66;03m#Now try with bounding boxes. Remember to uncomment.\u001b[39;00m\n",
      "\u001b[0;31mIndexError\u001b[0m: index 1 is out of bounds for axis 0 with size 1"
     ]
    }
   ],
   "source": [
    "# Select a random patch for segmentation\n",
    "\n",
    "# Compute the total number of 256x256 arrays\n",
    "#num_arrays = patches.shape[0] * patches.shape[1]\n",
    "# Select a random index\n",
    "#index = np.random.choice(num_arrays)\n",
    "# Compute the indices in the original array\n",
    "#i = index // patches.shape[1]\n",
    "#j = index % patches.shape[1]\n",
    "\n",
    "#Or pick a specific patch for study.\n",
    "i, j = 1, 2\n",
    "\n",
    "\n",
    "# Selectelected patch for segmentation\n",
    "#random_array = patches[i, j]\n",
    "random_array = patches[i, j].squeeze()\n",
    "\n",
    "\n",
    "single_patch = Image.fromarray(random_array)\n",
    "# prepare image for the model\n",
    "\n",
    "#First try without providing any prompt (no bounding box or input_points)\n",
    "#inputs = processor(single_patch, return_tensors=\"pt\")\n",
    "#Now try with bounding boxes. Remember to uncomment.\n",
    "inputs = processor(single_patch, input_points=input_points, return_tensors=\"pt\")\n",
    "\n",
    "# Move the input tensor to the GPU if it's not already there\n",
    "inputs = {k: v.to(device) for k, v in inputs.items()}\n",
    "my_mito_model.eval()\n",
    "\n",
    "\n",
    "# forward pass\n",
    "with torch.no_grad():\n",
    "  outputs = my_mito_model(**inputs, multimask_output=False)\n",
    "\n",
    "# apply sigmoid\n",
    "single_patch_prob = torch.sigmoid(outputs.pred_masks.squeeze(1))\n",
    "# convert soft mask to hard mask\n",
    "single_patch_prob = single_patch_prob.cpu().numpy().squeeze()\n",
    "single_patch_prediction = (single_patch_prob > 0.5).astype(np.uint8)\n",
    "\n",
    "\n",
    "fig, axes = plt.subplots(1, 3, figsize=(15, 5))\n",
    "\n",
    "# Plot the first image on the left\n",
    "axes[0].imshow(np.array(single_patch), cmap='gray')  # Assuming the first image is grayscale\n",
    "axes[0].set_title(\"Image\")\n",
    "\n",
    "# Plot the second image on the right\n",
    "axes[1].imshow(single_patch_prob)  # Assuming the second image is grayscale\n",
    "axes[1].set_title(\"Probability Map\")\n",
    "\n",
    "# Plot the second image on the right\n",
    "axes[2].imshow(single_patch_prediction, cmap='gray')  # Assuming the second image is grayscale\n",
    "axes[2].set_title(\"Prediction\")\n",
    "\n",
    "# Hide axis ticks and labels\n",
    "for ax in axes:\n",
    "    ax.set_xticks([])\n",
    "    ax.set_yticks([])\n",
    "    ax.set_xticklabels([])\n",
    "    ax.set_yticklabels([])\n",
    "\n",
    "# Display the images side by side\n",
    "plt.show()"
   ]
  }
 ],
 "metadata": {
  "kernelspec": {
   "display_name": "medsamenv (3.10.18)",
   "language": "python",
   "name": "python3"
  },
  "language_info": {
   "codemirror_mode": {
    "name": "ipython",
    "version": 3
   },
   "file_extension": ".py",
   "mimetype": "text/x-python",
   "name": "python",
   "nbconvert_exporter": "python",
   "pygments_lexer": "ipython3",
   "version": "3.10.18"
  }
 },
 "nbformat": 4,
 "nbformat_minor": 5
}
